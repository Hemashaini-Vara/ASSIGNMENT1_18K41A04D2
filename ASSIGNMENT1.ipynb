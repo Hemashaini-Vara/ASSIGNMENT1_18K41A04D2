{
 "cells": [
  {
   "cell_type": "code",
   "execution_count": 4,
   "metadata": {},
   "outputs": [
    {
     "name": "stdout",
     "output_type": "stream",
     "text": [
      "Enter year: 2012\n",
      "Dragon\n"
     ]
    }
   ],
   "source": [
    "year=int(input(\"Enter year: \"))\n",
    "r=year%12\n",
    "d={0:\"Monkey\",1:\"Rooster\",2:\"Dog\",3:\"Pig\",4:\"Rat\",5:\"Ox\",6:\"Tiger\",7:\"Rabbit\",8:\"Dragon\",9:\"Snake\",10:\"Horse\",11:\"Sheep\"}\n",
    "print(d[r])"
   ]
  },
  {
   "cell_type": "code",
   "execution_count": 5,
   "metadata": {},
   "outputs": [
    {
     "name": "stdout",
     "output_type": "stream",
     "text": [
      "Distance to be travel: 520\n",
      "Weight of the goods: 50\n",
      "Amount to be charged: 3120/-\n"
     ]
    }
   ],
   "source": [
    "dis= int(input(\"Distance to be travel: \")) \n",
    "wei=int(input(\"Weight of the goods: \"))\n",
    "if dis>=500:\n",
    "    if wei>=100:\n",
    "        cost=dis*5\n",
    "    elif wei>=10 and wei<100:\n",
    "        cost=dis*6\n",
    "    else:\n",
    "        cost=dis*7\n",
    "else:\n",
    "    if wei>=100:\n",
    "        cost=dis*8\n",
    "    else:\n",
    "        cost=dis*5\n",
    "print(\"Amount to be charged: \", end=\"\")\n",
    "print(cost, end=\"\")\n",
    "print(\"/-\")"
   ]
  },
  {
   "cell_type": "code",
   "execution_count": 9,
   "metadata": {},
   "outputs": [
    {
     "name": "stdout",
     "output_type": "stream",
     "text": [
      "Type of seat: circle\n",
      "Payment mode: cash\n",
      "Cost of ticket: 675\n"
     ]
    }
   ],
   "source": [
    "ty=input(\"Type of seat: \") \n",
    "paymode=input(\"Payment mode: \") \n",
    "if ty.upper()==\"STALLS\":\n",
    "    cost=625 \n",
    "elif ty.upper()==\"CIRCLE\":\n",
    "    cost=750\n",
    "elif ty.upper ()==\"UPPER CLASS\" or ty.upper()==\"UPPER CLASS\":\n",
    "    cost=850 \n",
    "else:\n",
    "    cost=1000\n",
    "if paymode.upper()==\"CASH\":\n",
    "    discount=int(cost*(0.1)) \n",
    "    print(\"Cost of ticket: \",end=\"\")\n",
    "    print(cost-discount)\n",
    "else:\n",
    "    discount=int(cost*(0.05)) \n",
    "    print(\"Cost of ticket: \",end=\"\")\n",
    "    print(cost-discount)"
   ]
  },
  {
   "cell_type": "code",
   "execution_count": 11,
   "metadata": {},
   "outputs": [
    {
     "name": "stdout",
     "output_type": "stream",
     "text": [
      "Enter water in kilograms: 20\n",
      "Enter initial temp in degree celsius: 100\n",
      "Enter final temp in degree celsius: 200\n",
      "Energy in joules is: 8368000\n"
     ]
    }
   ],
   "source": [
    "m=int(input(\"Enter water in kilograms: \"))\n",
    "itemp=int(input(\"Enter initial temp in degree celsius: \")) \n",
    "ftemp=int(input(\"Enter final temp in degree celsius: \"))\n",
    "print(\"Energy in joules is: \", end=\"\") \n",
    "print(m*(ftemp-itemp)*4184)"
   ]
  },
  {
   "cell_type": "code",
   "execution_count": 15,
   "metadata": {},
   "outputs": [
    {
     "name": "stdout",
     "output_type": "stream",
     "text": [
      "Enter month: JANUARY\n",
      "Winter\n"
     ]
    }
   ],
   "source": [
    "month=input(\"Enter month: \")\n",
    "if month.upper()==\"DECEMBER\" or month.upper()==\"JANUARY\" or month.upper()==\"FEBRUARY\":\n",
    "    print(\"Winter\")\n",
    "elif month.upper ()==\"MARCH\" or month.upper()==\"APRIL\" or month.upper()==\"MAY\":\n",
    "    print(\"Spring\")\n",
    "elif month.upper() == \"JUNE\" or month.upper()==\"JULY\" or month.upper()==\"AUGUST\":\n",
    "    print(\"Summer\")\n",
    "else:\n",
    "    print(\"Autumn\")"
   ]
  },
  {
   "cell_type": "code",
   "execution_count": 18,
   "metadata": {},
   "outputs": [
    {
     "name": "stdout",
     "output_type": "stream",
     "text": [
      "Enter weight in pounds: 100\n",
      "Enter height in inches: 60\n",
      "BMI is: 19.5297105455322\n",
      "Normal\n"
     ]
    }
   ],
   "source": [
    "w=int(input(\"Enter weight in pounds: \"))\n",
    "h=int(input(\"Enter height in inches: \")) \n",
    "bmi=(w*0.45359237)/((h*0.0254)*(h*0.0254)) \n",
    "print(\"BMI is: \", end=\"\")\n",
    "print(bmi) \n",
    "if bmi<18.5:\n",
    "    print(\"UNDERWEIGHT\")\n",
    "elif bmi>=18.5 and bmi<25.0:\n",
    "    print(\"Normal\")\n",
    "elif bmi>=25.0 and bmi<30.0: \n",
    "    print(\"Overweight\")\n",
    "else: \n",
    "    print(\"Obese\")"
   ]
  },
  {
   "cell_type": "code",
   "execution_count": 19,
   "metadata": {},
   "outputs": [
    {
     "name": "stdout",
     "output_type": "stream",
     "text": [
      "Enter number between 100 and 1000: 205\n",
      "7\n"
     ]
    }
   ],
   "source": [
    "num=int(input(\"Enter number between 100 and 1000: \")) \n",
    "s=0\n",
    "if num>=100 and num<=1000:\n",
    "    while num>0:\n",
    "        r=num%10\n",
    "        s=s+r\n",
    "        num=num//10\n",
    "print(s)"
   ]
  },
  {
   "cell_type": "code",
   "execution_count": 24,
   "metadata": {},
   "outputs": [
    {
     "name": "stdout",
     "output_type": "stream",
     "text": [
      "1          2          3          4          5          6          7          8          9          11          22          33          44          55          66          77          88          99          101          111          121          131          141          151          161          171          181          191          202          212          222          232          242          252          262          272          282          292          303          313          323          333          343          353          363          373          383          393          404          414          424          434          444          454          464          474          484          494          505          515          525          535          545          555          565          575          585          595          606          616          626          636          646          656          666          676          686          696          707          717          727          737          747          757          767          777          787          797          808          818          828          838          848          858          868          878          888          898          909          919          929          939          949          959          969          979          989          999          "
     ]
    }
   ],
   "source": [
    "i=1\n",
    "rev=0\n",
    "while i<=1000:\n",
    "    temp=i\n",
    "    rev=0\n",
    "    while(temp>0):\n",
    "        r=temp%10\n",
    "        rev=rev*10+r\n",
    "        temp=temp//10\n",
    "    if(rev==i): \n",
    "        print(i, end=\"          \")\n",
    "    i=i+1"
   ]
  },
  {
   "cell_type": "code",
   "execution_count": 25,
   "metadata": {},
   "outputs": [
    {
     "name": "stdout",
     "output_type": "stream",
     "text": [
      "1\n",
      "2\n",
      "3\n",
      "4\n",
      "5\n",
      "6\n",
      "7\n",
      "8\n",
      "9\n",
      "153\n",
      "370\n",
      "371\n",
      "407\n"
     ]
    }
   ],
   "source": [
    "i=1\n",
    "while(i<=1000):\n",
    "    d=0\n",
    "    temp=i\n",
    "    while(temp>0):\n",
    "        temp=temp//10\n",
    "        d=d+1\n",
    "    temp=i\n",
    "    arms=0\n",
    "    while(temp>0):\n",
    "        r=temp%10\n",
    "        arms=arms+pow(r,d)\n",
    "        temp=temp//10\n",
    "    if arms==i:\n",
    "        print(i)\n",
    "    i=i+1"
   ]
  },
  {
   "cell_type": "code",
   "execution_count": 28,
   "metadata": {},
   "outputs": [
    {
     "name": "stdout",
     "output_type": "stream",
     "text": [
      "1 2 Fizz 4 Buzz Fizz 7 8 Fizz Buzz 11 Fizz 13 14 15 16 17 Fizz 19 Buzz Fizz 22 23 Fizz Buzz 26 Fizz 28 29 30 31 32 Fizz 34 Buzz Fizz 37 38 Fizz Buzz 41 Fizz 43 44 45 46 47 Fizz 49 Buzz Fizz 52 53 Fizz Buzz 56 Fizz 58 59 60 61 62 Fizz 64 Buzz Fizz 67 68 Fizz Buzz 71 Fizz 73 74 75 76 77 Fizz 79 Buzz Fizz 82 83 Fizz Buzz 86 Fizz 88 89 90 91 92 Fizz 94 Buzz Fizz 97 98 Fizz Buzz "
     ]
    }
   ],
   "source": [
    "i=1\n",
    "while i<=100:\n",
    "    if i%3==0 and i%5!=0:\n",
    "        print(\"Fizz\", end=\" \")\n",
    "    elif i%5==0 and i%3!=0:\n",
    "        print(\"Buzz\", end=\" \") \n",
    "    elif i%3==8 and i%5==0:\n",
    "        print(\"fizz buzz\",end=\" \")\n",
    "    else:\n",
    "        print(i, end=\" \")\n",
    "    i=i+1"
   ]
  },
  {
   "cell_type": "code",
   "execution_count": 30,
   "metadata": {},
   "outputs": [
    {
     "name": "stdout",
     "output_type": "stream",
     "text": [
      "Enter height of the wall: 500\n",
      "Enter meters climbed up in each step: 20\n",
      "Enter meters slips down in each step: 15\n",
      "98\n"
     ]
    }
   ],
   "source": [
    "h=int(input(\"Enter height of the wall: \"))\n",
    "u=int(input(\"Enter meters climbed up in each step: \")) \n",
    "d=int(input(\"Enter meters slips down in each step: \"))\n",
    "cl=0\n",
    "n=0\n",
    "while cl<=h:\n",
    "    if (cl+u<=h): \n",
    "        cl=u-d+cl\n",
    "        n=n+1 \n",
    "    else:\n",
    "        n=n+1\n",
    "        break\n",
    "print(n)"
   ]
  }
 ],
 "metadata": {
  "kernelspec": {
   "display_name": "Python 3",
   "language": "python",
   "name": "python3"
  },
  "language_info": {
   "codemirror_mode": {
    "name": "ipython",
    "version": 3
   },
   "file_extension": ".py",
   "mimetype": "text/x-python",
   "name": "python",
   "nbconvert_exporter": "python",
   "pygments_lexer": "ipython3",
   "version": "3.8.3"
  }
 },
 "nbformat": 4,
 "nbformat_minor": 4
}
